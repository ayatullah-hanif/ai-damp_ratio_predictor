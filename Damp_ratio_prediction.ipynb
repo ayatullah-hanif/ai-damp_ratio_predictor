{
 "cells": [
  {
   "cell_type": "code",
   "execution_count": 1,
   "id": "e4ee88ec-9cfa-4036-a5d8-a2e201501370",
   "metadata": {},
   "outputs": [],
   "source": [
    "import pandas as pd\n",
    "from sklearn.ensemble import RandomForestRegressor\n",
    "from sklearn.model_selection import train_test_split\n",
    "import joblib\n",
    "\n",
    "# Load dataset\n",
    "df = pd.read_csv(\"concrete_damping_dataset.csv\")"
   ]
  },
  {
   "cell_type": "code",
   "execution_count": 3,
   "id": "54d0bc2a-e765-485d-a7fe-6c0f8b251d34",
   "metadata": {},
   "outputs": [],
   "source": [
    "# Drop missing values\n",
    "df.dropna(inplace=True)\n",
    "\n",
    "# Features and target\n",
    "features = ['rubber_content', 'aggregate_size', 'water_cement_ratio', 'compressive_strength', 'flexural_strength']\n",
    "target = 'damping_ratio'\n",
    "\n",
    "X = df[features]\n",
    "y = df[target]"
   ]
  },
  {
   "cell_type": "code",
   "execution_count": 5,
   "id": "f607d495-f852-426e-aa1d-398452d84de5",
   "metadata": {},
   "outputs": [
    {
     "name": "stdout",
     "output_type": "stream",
     "text": [
      "✅ Model trained and saved as 'damping_model.pkl'\n"
     ]
    }
   ],
   "source": [
    "# Split data\n",
    "X_train, X_test, y_train, y_test = train_test_split(X, y, test_size=0.2, random_state=42)\n",
    "\n",
    "# Train model\n",
    "model = RandomForestRegressor(n_estimators=100, random_state=42)\n",
    "model.fit(X_train, y_train)\n",
    "\n",
    "# Save model\n",
    "joblib.dump(model, \"damping_model.pkl\")\n",
    "print(\"✅ Model trained and saved as 'damping_model.pkl'\")"
   ]
  },
  {
   "cell_type": "markdown",
   "id": "0b6f2d28-b76d-49b4-a104-9d2edebcf451",
   "metadata": {},
   "source": [
    "**APP UI**"
   ]
  },
  {
   "cell_type": "code",
   "execution_count": 8,
   "id": "0448402f-acb9-4abe-b959-bb767b5b06fc",
   "metadata": {},
   "outputs": [
    {
     "name": "stderr",
     "output_type": "stream",
     "text": [
      "2025-07-29 18:47:59.630 \n",
      "  \u001b[33m\u001b[1mWarning:\u001b[0m to view this Streamlit app on a browser, run it with the following\n",
      "  command:\n",
      "\n",
      "    streamlit run C:\\Users\\pc\\anaconda3\\Lib\\site-packages\\ipykernel_launcher.py [ARGUMENTS]\n"
     ]
    },
    {
     "data": {
      "text/plain": [
       "DeltaGenerator(_form_data=FormData(form_id='input_form'))"
      ]
     },
     "execution_count": 8,
     "metadata": {},
     "output_type": "execute_result"
    }
   ],
   "source": [
    "import streamlit as st\n",
    "import joblib\n",
    "import pandas as pd\n",
    "\n",
    "# Streamlit setup\n",
    "st.set_page_config(page_title=\"Damping Ratio Predictor\", layout=\"wide\")\n",
    "\n",
    "st.markdown(\"\"\"\n",
    "<link href=\"https://cdn.jsdelivr.net/npm/tailwindcss@2.2.19/dist/tailwind.min.css\" rel=\"stylesheet\">\n",
    "\"\"\", unsafe_allow_html=True)\n",
    "\n",
    "# Load trained model\n",
    "try:\n",
    "    model = joblib.load(\"damping_model.pkl\")\n",
    "except:\n",
    "    st.error(\"⚠️ Model file not found. Please run train_model.py first.\")\n",
    "    st.stop()\n",
    "\n",
    "# App UI\n",
    "st.markdown(\"\"\"\n",
    "<div class=\"bg-gray-100 p-6 rounded-lg shadow-lg max-w-3xl mx-auto\">\n",
    "    <h1 class=\"text-3xl font-bold text-center text-gray-800 mb-4\">Damping Ratio Predictor</h1>\n",
    "    <p class=\"text-gray-600 text-center mb-6\">Enter concrete mix properties to estimate the damping ratio.</p>\n",
    "\"\"\", unsafe_allow_html=True)\n",
    "\n",
    "with st.form(key=\"input_form\"):\n",
    "    col1, col2 = st.columns(2)\n",
    "\n",
    "    with col1:\n",
    "        rubber_content = st.number_input(\"Rubber Content (%)\", 0.0, 100.0, 5.0)\n",
    "        aggregate_size = st.number_input(\"Aggregate Size (mm)\", 2.0, 40.0, 10.0)\n",
    "        water_cement_ratio = st.number_input(\"Water-Cement Ratio\", 0.2, 1.0, 0.5)\n",
    "\n",
    "    with col2:\n",
    "        compressive_strength = st.number_input(\"Compressive Strength (MPa)\", 5.0, 100.0, 30.0)\n",
    "        flexural_strength = st.number_input(\"Flexural Strength (MPa)\", 1.0, 20.0, 5.0)\n",
    "\n",
    "    submitted = st.form_submit_button(\"Predict Damping Ratio\")\n",
    "\n",
    "# Make prediction\n",
    "if submitted:\n",
    "    user_input = pd.DataFrame([{\n",
    "        'rubber_content': rubber_content,\n",
    "        'aggregate_size': aggregate_size,\n",
    "        'water_cement_ratio': water_cement_ratio,\n",
    "        'compressive_strength': compressive_strength,\n",
    "        'flexural_strength': flexural_strength\n",
    "    }])\n",
    "\n",
    "    prediction = model.predict(user_input)[0]\n",
    "\n",
    "    st.markdown(f\"\"\"\n",
    "    <div class=\"mt-6 p-4 bg-white rounded-lg shadow-md\">\n",
    "        <h2 class=\"text-2xl font-semibold text-gray-800 mb-4\">Prediction Result</h2>\n",
    "        <p class=\"text-gray-700 text-lg\">🔍 Predicted Damping Ratio: <span class=\"text-blue-600 font-bold\">{prediction:.4f}</span></p>\n",
    "    </div>\n",
    "    \"\"\", unsafe_allow_html=True)\n",
    "\n",
    "st.markdown(\"</div>\", unsafe_allow_html=True)"
   ]
  },
  {
   "cell_type": "code",
   "execution_count": null,
   "id": "929dcf94-8d43-41d0-9f05-de245087ed49",
   "metadata": {},
   "outputs": [],
   "source": []
  },
  {
   "cell_type": "code",
   "execution_count": null,
   "id": "4cbdba4f-0bf2-4327-92e5-b46a9882d3b0",
   "metadata": {},
   "outputs": [],
   "source": []
  },
  {
   "cell_type": "code",
   "execution_count": null,
   "id": "9cd8a86e-421c-4cef-a45b-e725098a0250",
   "metadata": {},
   "outputs": [],
   "source": []
  },
  {
   "cell_type": "code",
   "execution_count": null,
   "id": "7228e114-e3cf-40bc-bc99-68a5644f61a3",
   "metadata": {},
   "outputs": [],
   "source": []
  },
  {
   "cell_type": "code",
   "execution_count": null,
   "id": "a842cdf5-2ea9-4fb4-bc8a-10c6c9e91441",
   "metadata": {},
   "outputs": [],
   "source": []
  },
  {
   "cell_type": "code",
   "execution_count": null,
   "id": "f7b779ed-84da-4284-8da4-e4bfb10ed21c",
   "metadata": {},
   "outputs": [],
   "source": []
  },
  {
   "cell_type": "code",
   "execution_count": null,
   "id": "2140ea73-8e1a-4f8b-9cea-d90a7926aeb7",
   "metadata": {},
   "outputs": [],
   "source": []
  },
  {
   "cell_type": "code",
   "execution_count": null,
   "id": "60c03b05-5f64-4001-8fd0-3ea7c276e677",
   "metadata": {},
   "outputs": [],
   "source": []
  },
  {
   "cell_type": "code",
   "execution_count": null,
   "id": "fe99f12b-b310-468f-bf06-f23d0e0ed47d",
   "metadata": {},
   "outputs": [],
   "source": []
  },
  {
   "cell_type": "code",
   "execution_count": null,
   "id": "b44beb67-80e7-46e1-8813-3b3feeef2e64",
   "metadata": {},
   "outputs": [],
   "source": []
  }
 ],
 "metadata": {
  "kernelspec": {
   "display_name": "Python 3 (ipykernel)",
   "language": "python",
   "name": "python3"
  },
  "language_info": {
   "codemirror_mode": {
    "name": "ipython",
    "version": 3
   },
   "file_extension": ".py",
   "mimetype": "text/x-python",
   "name": "python",
   "nbconvert_exporter": "python",
   "pygments_lexer": "ipython3",
   "version": "3.12.4"
  }
 },
 "nbformat": 4,
 "nbformat_minor": 5
}
